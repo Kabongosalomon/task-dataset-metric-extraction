{
 "cells": [
  {
   "cell_type": "markdown",
   "metadata": {},
   "source": [
    "# API Paper with Code"
   ]
  },
  {
   "cell_type": "markdown",
   "metadata": {},
   "source": [
    "https://paperswithcode-client.readthedocs.io/en/latest/quickstart.html, https://github.com/paperswithcode/paperswithcode-client"
   ]
  },
  {
   "cell_type": "code",
   "execution_count": 210,
   "metadata": {},
   "outputs": [],
   "source": [
    "import arxiv"
   ]
  },
  {
   "cell_type": "code",
   "execution_count": 221,
   "metadata": {},
   "outputs": [
    {
     "output_type": "error",
     "ename": "AttributeError",
     "evalue": "'NoneType' object has no attribute 'split'",
     "traceback": [
      "\u001b[1;31m---------------------------------------------------------------------------\u001b[0m",
      "\u001b[1;31mAttributeError\u001b[0m                            Traceback (most recent call last)",
      "\u001b[1;32m<ipython-input-221-e856e5aed672>\u001b[0m in \u001b[0;36m<module>\u001b[1;34m\u001b[0m\n\u001b[0;32m      8\u001b[0m \u001b[1;31m# arxiv.download(paper, slugify=custom_slugify)\u001b[0m\u001b[1;33m\u001b[0m\u001b[1;33m\u001b[0m\u001b[1;33m\u001b[0m\u001b[0m\n\u001b[0;32m      9\u001b[0m \u001b[1;33m\u001b[0m\u001b[0m\n\u001b[1;32m---> 10\u001b[1;33m \u001b[0marxiv\u001b[0m\u001b[1;33m.\u001b[0m\u001b[0mdownload\u001b[0m\u001b[1;33m(\u001b[0m\u001b[0mpaper2\u001b[0m\u001b[1;33m,\u001b[0m \u001b[0mslugify\u001b[0m\u001b[1;33m=\u001b[0m\u001b[0mcustom_slugify\u001b[0m\u001b[1;33m)\u001b[0m\u001b[1;33m\u001b[0m\u001b[1;33m\u001b[0m\u001b[0m\n\u001b[0m\u001b[0;32m     11\u001b[0m \u001b[1;31m# arxiv.download(paper2)\u001b[0m\u001b[1;33m\u001b[0m\u001b[1;33m\u001b[0m\u001b[1;33m\u001b[0m\u001b[0m\n",
      "\u001b[1;32m~\\Anaconda3\\envs\\orkg\\lib\\site-packages\\arxiv\\arxiv.py\u001b[0m in \u001b[0;36mdownload\u001b[1;34m(obj, dirpath, slugify, prefer_source_tarfile)\u001b[0m\n\u001b[0;32m    248\u001b[0m     \u001b[1;32melse\u001b[0m\u001b[1;33m:\u001b[0m\u001b[1;33m\u001b[0m\u001b[1;33m\u001b[0m\u001b[0m\n\u001b[0;32m    249\u001b[0m         \u001b[0murl\u001b[0m \u001b[1;33m=\u001b[0m \u001b[0mobj\u001b[0m\u001b[1;33m[\u001b[0m\u001b[1;34m'pdf_url'\u001b[0m\u001b[1;33m]\u001b[0m\u001b[1;33m\u001b[0m\u001b[1;33m\u001b[0m\u001b[0m\n\u001b[1;32m--> 250\u001b[1;33m         \u001b[0mpath\u001b[0m \u001b[1;33m=\u001b[0m \u001b[0mdirpath\u001b[0m \u001b[1;33m+\u001b[0m \u001b[0mslugify\u001b[0m\u001b[1;33m(\u001b[0m\u001b[0mobj\u001b[0m\u001b[1;33m)\u001b[0m \u001b[1;33m+\u001b[0m \u001b[1;34m'.pdf'\u001b[0m\u001b[1;33m\u001b[0m\u001b[1;33m\u001b[0m\u001b[0m\n\u001b[0m\u001b[0;32m    251\u001b[0m \u001b[1;33m\u001b[0m\u001b[0m\n\u001b[0;32m    252\u001b[0m     \u001b[0murlretrieve\u001b[0m\u001b[1;33m(\u001b[0m\u001b[0murl\u001b[0m\u001b[1;33m,\u001b[0m \u001b[0mpath\u001b[0m\u001b[1;33m)\u001b[0m\u001b[1;33m\u001b[0m\u001b[1;33m\u001b[0m\u001b[0m\n",
      "\u001b[1;32m<ipython-input-221-e856e5aed672>\u001b[0m in \u001b[0;36mcustom_slugify\u001b[1;34m(obj)\u001b[0m\n\u001b[0;32m      3\u001b[0m \u001b[1;33m\u001b[0m\u001b[0m\n\u001b[0;32m      4\u001b[0m \u001b[1;32mdef\u001b[0m \u001b[0mcustom_slugify\u001b[0m\u001b[1;33m(\u001b[0m\u001b[0mobj\u001b[0m\u001b[1;33m)\u001b[0m\u001b[1;33m:\u001b[0m\u001b[1;33m\u001b[0m\u001b[1;33m\u001b[0m\u001b[0m\n\u001b[1;32m----> 5\u001b[1;33m     \u001b[1;32mreturn\u001b[0m \u001b[0mobj\u001b[0m\u001b[1;33m.\u001b[0m\u001b[0mget\u001b[0m\u001b[1;33m(\u001b[0m\u001b[1;34m'id'\u001b[0m\u001b[1;33m)\u001b[0m\u001b[1;33m.\u001b[0m\u001b[0msplit\u001b[0m\u001b[1;33m(\u001b[0m\u001b[1;34m'/'\u001b[0m\u001b[1;33m)\u001b[0m\u001b[1;33m[\u001b[0m\u001b[1;33m-\u001b[0m\u001b[1;36m1\u001b[0m\u001b[1;33m]\u001b[0m\u001b[1;33m\u001b[0m\u001b[1;33m\u001b[0m\u001b[0m\n\u001b[0m\u001b[0;32m      6\u001b[0m \u001b[1;33m\u001b[0m\u001b[0m\n\u001b[0;32m      7\u001b[0m \u001b[1;31m# Download with a specified slugifier function\u001b[0m\u001b[1;33m\u001b[0m\u001b[1;33m\u001b[0m\u001b[1;33m\u001b[0m\u001b[0m\n",
      "\u001b[1;31mAttributeError\u001b[0m: 'NoneType' object has no attribute 'split'"
     ]
    }
   ],
   "source": [
    "paper2 = {\"pdf_url\": \"http://arxiv.org/pdf/1707.08567v1\",\n",
    "          \"title\": \"The Paper Title\"}\n",
    "\n",
    "def custom_slugify(obj):\n",
    "    return obj.get('id').split('/')[-1]\n",
    "\n",
    "# Download with a specified slugifier function\n",
    "# arxiv.download(paper, slugify=custom_slugify)\n",
    "\n",
    "arxiv.download(paper2, slugify=custom_slugify)\n",
    "# arxiv.download(paper2)"
   ]
  },
  {
   "cell_type": "code",
   "execution_count": 246,
   "metadata": {},
   "outputs": [
    {
     "output_type": "execute_result",
     "data": {
      "text/plain": [
       "'./pdf/1704.03549v4.pdf'"
      ]
     },
     "metadata": {},
     "execution_count": 246
    }
   ],
   "source": [
    "import arxiv\n",
    "# Query for a paper of interest, then download\n",
    "\n",
    "# paper = arxiv.query(id_list=[\"1703.07834v2\", \"1806.06098v1\"])[1]\n",
    "\n",
    "paper = {'id': 'http://arxiv.org/abs/1704.03549v4',\\\n",
    "        'guidislink': True, 'pdf_url': 'http://arxiv.org/pdf/1704.03549v4'}\n",
    "\n",
    "# Download the gzipped tar file\n",
    "# arxiv.download(paper,prefer_source_tarfile=True)\n",
    "\n",
    "# Returns the object id\n",
    "def custom_slugify(obj):\n",
    "    return obj.get('id').split('/')[-1]\n",
    "\n",
    "# Download with a specified slugifier function\n",
    "arxiv.download(paper, slugify=custom_slugify, dirpath='./pdf')"
   ]
  },
  {
   "cell_type": "code",
   "execution_count": 249,
   "metadata": {},
   "outputs": [
    {
     "output_type": "stream",
     "name": "stdout",
     "text": [
      "Original Text: http://arxiv.org/pdf/1802.08122v1\nReplaced Text: http://arxiv.org/pdf/1802.08122v1\n"
     ]
    }
   ],
   "source": [
    "import re\n",
    "\n",
    "# Define a string\n",
    "orgStr = \"http://arxiv.org/pdf/1802.08122v1\"\n",
    "\n",
    "# Replace the string\n",
    "repStr = re.sub(\"abs\", \"pdf\", orgStr)\n",
    "\n",
    "# Print the original string\n",
    "print(\"Original Text:\", orgStr)\n",
    "\n",
    "# Print the replaced string\n",
    "print(\"Replaced Text:\", repStr)"
   ]
  },
  {
   "cell_type": "code",
   "execution_count": 216,
   "metadata": {},
   "outputs": [
    {
     "output_type": "execute_result",
     "data": {
      "text/plain": [
       "'./1709.01442v1.Dense_Face_Alignment.pdf'"
      ]
     },
     "metadata": {},
     "execution_count": 216
    }
   ],
   "source": [
    "paper2 = {\"pdf_url\": \"http://arxiv.org/abs/1709.01442v1\",\n",
    "          \"title\": ''}\n",
    "\n",
    "arxiv.download(paper2)"
   ]
  },
  {
   "cell_type": "code",
   "execution_count": 209,
   "metadata": {},
   "outputs": [
    {
     "output_type": "stream",
     "name": "stdout",
     "text": [
      "1\n2\n3\n"
     ]
    }
   ],
   "source": [
    "q = {'1':1, '2':2, '3':3}\n",
    "\n",
    "for i in q:\n",
    "    print(i)"
   ]
  },
  {
   "cell_type": "code",
   "execution_count": null,
   "metadata": {},
   "outputs": [],
   "source": []
  },
  {
   "cell_type": "code",
   "execution_count": 27,
   "metadata": {},
   "outputs": [
    {
     "output_type": "execute_result",
     "data": {
      "text/plain": [
       "0"
      ]
     },
     "metadata": {},
     "execution_count": 27
    }
   ],
   "source": [
    "from collections import defaultdict\n",
    "TDM_taxonomy = defaultdict(lambda: 0 )\n",
    "TDM_taxonomy['f']"
   ]
  },
  {
   "cell_type": "code",
   "execution_count": 28,
   "metadata": {},
   "outputs": [
    {
     "output_type": "execute_result",
     "data": {
      "text/plain": [
       "1"
      ]
     },
     "metadata": {},
     "execution_count": 28
    }
   ],
   "source": [
    "TDM_taxonomy['f']+1"
   ]
  },
  {
   "cell_type": "code",
   "execution_count": 30,
   "metadata": {},
   "outputs": [
    {
     "output_type": "stream",
     "name": "stdout",
     "text": [
      "f 0\n"
     ]
    }
   ],
   "source": [
    "for k, v in TDM_taxonomy.items():\n",
    "    print(k, v)"
   ]
  },
  {
   "cell_type": "code",
   "execution_count": 26,
   "metadata": {},
   "outputs": [
    {
     "output_type": "execute_result",
     "data": {
      "text/plain": [
       "dict_values([0])"
      ]
     },
     "metadata": {},
     "execution_count": 26
    }
   ],
   "source": [
    "TDM_taxonomy.values()"
   ]
  },
  {
   "cell_type": "code",
   "execution_count": null,
   "metadata": {},
   "outputs": [],
   "source": [
    "# https://github.com/paperswithcode/sota-extractor"
   ]
  },
  {
   "cell_type": "code",
   "execution_count": 78,
   "metadata": {},
   "outputs": [],
   "source": [
    "# !pip install paperswithcode-client"
   ]
  },
  {
   "cell_type": "code",
   "execution_count": 79,
   "metadata": {},
   "outputs": [],
   "source": [
    "from paperswithcode import PapersWithCodeClient "
   ]
  },
  {
   "cell_type": "code",
   "execution_count": 141,
   "metadata": {},
   "outputs": [],
   "source": [
    "client = PapersWithCodeClient()\n",
    "papers_page = client.paper_list(page=1, items_per_page=50)"
   ]
  },
  {
   "cell_type": "code",
   "execution_count": 130,
   "metadata": {},
   "outputs": [
    {
     "data": {
      "text/plain": [
       "190436"
      ]
     },
     "execution_count": 130,
     "metadata": {},
     "output_type": "execute_result"
    }
   ],
   "source": [
    "papers_page.count"
   ]
  },
  {
   "cell_type": "code",
   "execution_count": 131,
   "metadata": {},
   "outputs": [
    {
     "data": {
      "text/plain": [
       "45"
      ]
     },
     "execution_count": 131,
     "metadata": {},
     "output_type": "execute_result"
    }
   ],
   "source": [
    "len(papers_page.results)"
   ]
  },
  {
   "cell_type": "code",
   "execution_count": 72,
   "metadata": {},
   "outputs": [
    {
     "data": {
      "text/plain": [
       "Paper(id='on-the-minimal-teaching-sets-of-two', arxiv_id='1307.1058', nips_id=None, url_abs='http://arxiv.org/abs/1307.1058v2', url_pdf='http://arxiv.org/pdf/1307.1058v2.pdf', title='On the minimal teaching sets of two-dimensional threshold functions', abstract='It is known that a minimal teaching set of any threshold function on the\\ntwodimensional rectangular grid consists of 3 or 4 points. We derive exact\\nformulae for the numbers of functions corresponding to these values and further\\nrefine them in the case of a minimal teaching set of size 3. We also prove that\\nthe average cardinality of the minimal teaching sets of threshold functions is\\nasymptotically 7/2.\\n  We further present corollaries of these results concerning some special\\narrangements of lines in the plane.', authors=['Max A. Alekseyev', 'Marina G. Basova', 'Nikolai Yu. Zolotykh'], published=datetime.date(2013, 7, 3), conference=None, conference_url_abs=None, conference_url_pdf=None, proceeding=None)"
      ]
     },
     "execution_count": 72,
     "metadata": {},
     "output_type": "execute_result"
    }
   ],
   "source": [
    "paper = papers_page.results[0]\n",
    "paper"
   ]
  },
  {
   "cell_type": "code",
   "execution_count": 56,
   "metadata": {},
   "outputs": [
    {
     "name": "stdout",
     "output_type": "stream",
     "text": [
      "It is known that a minimal teaching set of any threshold function on the\n",
      "twodimensional rectangular grid consists of 3 or 4 points. We derive exact\n",
      "formulae for the numbers of functions corresponding to these values and further\n",
      "refine them in the case of a minimal teaching set of size 3. We also prove that\n",
      "the average cardinality of the minimal teaching sets of threshold functions is\n",
      "asymptotically 7/2.\n",
      "  We further present corollaries of these results concerning some special\n",
      "arrangements of lines in the plane.\n"
     ]
    }
   ],
   "source": [
    "print(paper.abstract)"
   ]
  },
  {
   "cell_type": "code",
   "execution_count": 8,
   "metadata": {},
   "outputs": [
    {
     "data": {
      "text/plain": [
       "2"
      ]
     },
     "execution_count": 8,
     "metadata": {},
     "output_type": "execute_result"
    }
   ],
   "source": [
    "papers_page.next_page"
   ]
  },
  {
   "cell_type": "code",
   "execution_count": 105,
   "metadata": {},
   "outputs": [
    {
     "data": {
      "text/plain": [
       "[Task(id='pose-estimation', name='Pose Estimation', description='Pose Estimation is a general problem in Computer Vision where we detect the position and orientation of an object.\\r\\n\\r\\n<span style=\"color:grey; opacity: 0.6\">( Image credit: [Real-time 2D Multi-Person Pose Estimation on CPU: Lightweight OpenPose](https://github.com/Daniil-Osokin/lightweight-human-pose-estimation.pytorch) )</span>')]"
      ]
     },
     "execution_count": 105,
     "metadata": {},
     "output_type": "execute_result"
    }
   ],
   "source": [
    "client.paper_task_list(papers_page.results[29].id)"
   ]
  },
  {
   "cell_type": "code",
   "execution_count": null,
   "metadata": {},
   "outputs": [],
   "source": []
  },
  {
   "cell_type": "markdown",
   "metadata": {},
   "source": [
    "# Dataset"
   ]
  },
  {
   "cell_type": "code",
   "execution_count": 35,
   "metadata": {},
   "outputs": [],
   "source": [
    "dataset_page = client.dataset_list()"
   ]
  },
  {
   "cell_type": "code",
   "execution_count": 36,
   "metadata": {},
   "outputs": [
    {
     "data": {
      "text/plain": [
       "2987"
      ]
     },
     "execution_count": 36,
     "metadata": {},
     "output_type": "execute_result"
    }
   ],
   "source": [
    "dataset_page.count"
   ]
  },
  {
   "cell_type": "code",
   "execution_count": 44,
   "metadata": {},
   "outputs": [
    {
     "data": {
      "text/plain": [
       "Dataset(id='citeseer-random-partition', name='Citeseer random partition', url=None)"
      ]
     },
     "execution_count": 44,
     "metadata": {},
     "output_type": "execute_result"
    }
   ],
   "source": [
    "dataset_page.results[-1]"
   ]
  },
  {
   "cell_type": "code",
   "execution_count": 39,
   "metadata": {},
   "outputs": [
    {
     "data": {
      "text/plain": [
       "50"
      ]
     },
     "execution_count": 39,
     "metadata": {},
     "output_type": "execute_result"
    }
   ],
   "source": [
    "len(dataset_page.results)"
   ]
  },
  {
   "cell_type": "code",
   "execution_count": 45,
   "metadata": {},
   "outputs": [
    {
     "data": {
      "text/plain": [
       "'citeseer-random-partition'"
      ]
     },
     "execution_count": 45,
     "metadata": {},
     "output_type": "execute_result"
    }
   ],
   "source": [
    "dataset_page.results[-1].id"
   ]
  },
  {
   "cell_type": "code",
   "execution_count": 46,
   "metadata": {},
   "outputs": [
    {
     "data": {
      "text/plain": [
       "'Citeseer random partition'"
      ]
     },
     "execution_count": 46,
     "metadata": {},
     "output_type": "execute_result"
    }
   ],
   "source": [
    "dataset_page.results[-1].name"
   ]
  },
  {
   "cell_type": "code",
   "execution_count": 108,
   "metadata": {},
   "outputs": [
    {
     "ename": "TypeError",
     "evalue": "parse_raw() takes exactly 2 positional arguments (1 given)",
     "output_type": "error",
     "traceback": [
      "\u001b[1;31m---------------------------------------------------------------------------\u001b[0m",
      "\u001b[1;31mTypeError\u001b[0m                                 Traceback (most recent call last)",
      "\u001b[1;32m<ipython-input-108-41f93fd8159a>\u001b[0m in \u001b[0;36m<module>\u001b[1;34m\u001b[0m\n\u001b[1;32m----> 1\u001b[1;33m \u001b[0mdataset_page\u001b[0m\u001b[1;33m.\u001b[0m\u001b[0mparse_raw\u001b[0m\u001b[1;33m(\u001b[0m\u001b[1;33m)\u001b[0m\u001b[1;33m\u001b[0m\u001b[1;33m\u001b[0m\u001b[0m\n\u001b[0m",
      "\u001b[1;32m~\\Anaconda3\\envs\\orkg\\lib\\site-packages\\pydantic\\main.cp36-win_amd64.pyd\u001b[0m in \u001b[0;36mpydantic.main.BaseModel.parse_raw\u001b[1;34m()\u001b[0m\n",
      "\u001b[1;31mTypeError\u001b[0m: parse_raw() takes exactly 2 positional arguments (1 given)"
     ]
    }
   ],
   "source": [
    "dataset_page."
   ]
  },
  {
   "cell_type": "markdown",
   "metadata": {},
   "source": [
    "#  Nested queries"
   ]
  },
  {
   "cell_type": "code",
   "execution_count": 111,
   "metadata": {},
   "outputs": [
    {
     "data": {
      "text/plain": [
       "'international-conference-on-web-research-icwr'"
      ]
     },
     "execution_count": 111,
     "metadata": {},
     "output_type": "execute_result"
    }
   ],
   "source": [
    "conference_page = client.conference_list()\n",
    "conference = conference_page.results[30]\n",
    "conference.id"
   ]
  },
  {
   "cell_type": "code",
   "execution_count": 113,
   "metadata": {},
   "outputs": [
    {
     "data": {
      "text/plain": [
       "'international-conference-on-web-research-icwr'"
      ]
     },
     "execution_count": 113,
     "metadata": {},
     "output_type": "execute_result"
    }
   ],
   "source": [
    "proceedings_page = client.proceeding_list(conference_id=conference.id)\n",
    "proceeding = proceedings_page.results[0]\n",
    "proceeding.id"
   ]
  },
  {
   "cell_type": "code",
   "execution_count": 116,
   "metadata": {},
   "outputs": [
    {
     "data": {
      "text/plain": [
       "[]"
      ]
     },
     "execution_count": 116,
     "metadata": {},
     "output_type": "execute_result"
    }
   ],
   "source": [
    "papers = client.proceeding_paper_list(\n",
    "    conference_id=conference.id, proceeding_id=proceeding.id\n",
    ")\n",
    "papers#.title"
   ]
  },
  {
   "cell_type": "code",
   "execution_count": null,
   "metadata": {},
   "outputs": [],
   "source": []
  },
  {
   "cell_type": "code",
   "execution_count": null,
   "metadata": {},
   "outputs": [],
   "source": [
    "client.dataset_list()"
   ]
  },
  {
   "cell_type": "code",
   "execution_count": null,
   "metadata": {},
   "outputs": [],
   "source": []
  },
  {
   "cell_type": "markdown",
   "metadata": {},
   "source": [
    "## Working with tables"
   ]
  },
  {
   "cell_type": "code",
   "execution_count": 55,
   "metadata": {},
   "outputs": [
    {
     "ename": "HttpClientError",
     "evalue": "HttpClientError(404: Not found.)",
     "output_type": "error",
     "traceback": [
      "\u001b[1;31m---------------------------------------------------------------------------\u001b[0m",
      "\u001b[1;31mHttpClientError\u001b[0m                           Traceback (most recent call last)",
      "\u001b[1;32m<ipython-input-55-6f96597c117a>\u001b[0m in \u001b[0;36m<module>\u001b[1;34m\u001b[0m\n\u001b[0;32m     27\u001b[0m     models.EvaluationTableCreateRequest(\n\u001b[0;32m     28\u001b[0m         \u001b[0mtask\u001b[0m\u001b[1;33m=\u001b[0m\u001b[0mtask\u001b[0m\u001b[1;33m.\u001b[0m\u001b[0mid\u001b[0m\u001b[1;33m,\u001b[0m\u001b[1;33m\u001b[0m\u001b[1;33m\u001b[0m\u001b[0m\n\u001b[1;32m---> 29\u001b[1;33m         \u001b[0mdataset\u001b[0m\u001b[1;33m=\u001b[0m\u001b[0mdataset_1\u001b[0m\u001b[1;33m.\u001b[0m\u001b[0mid\u001b[0m\u001b[1;33m\u001b[0m\u001b[1;33m\u001b[0m\u001b[0m\n\u001b[0m\u001b[0;32m     30\u001b[0m     )\n\u001b[0;32m     31\u001b[0m )\n",
      "\u001b[1;32m~\\Anaconda3\\envs\\orkg\\lib\\site-packages\\tea_client\\handler.py\u001b[0m in \u001b[0;36mwrapper\u001b[1;34m(self, *args, **kwargs)\u001b[0m\n\u001b[0;32m     16\u001b[0m     \u001b[1;32mdef\u001b[0m \u001b[0mwrapper\u001b[0m\u001b[1;33m(\u001b[0m\u001b[0mself\u001b[0m\u001b[1;33m,\u001b[0m \u001b[1;33m*\u001b[0m\u001b[0margs\u001b[0m\u001b[1;33m,\u001b[0m \u001b[1;33m**\u001b[0m\u001b[0mkwargs\u001b[0m\u001b[1;33m)\u001b[0m\u001b[1;33m:\u001b[0m\u001b[1;33m\u001b[0m\u001b[1;33m\u001b[0m\u001b[0m\n\u001b[0;32m     17\u001b[0m         \u001b[1;32mtry\u001b[0m\u001b[1;33m:\u001b[0m\u001b[1;33m\u001b[0m\u001b[1;33m\u001b[0m\u001b[0m\n\u001b[1;32m---> 18\u001b[1;33m             \u001b[1;32mreturn\u001b[0m \u001b[0mfunc\u001b[0m\u001b[1;33m(\u001b[0m\u001b[0mself\u001b[0m\u001b[1;33m,\u001b[0m \u001b[1;33m*\u001b[0m\u001b[0margs\u001b[0m\u001b[1;33m,\u001b[0m \u001b[1;33m**\u001b[0m\u001b[0mkwargs\u001b[0m\u001b[1;33m)\u001b[0m\u001b[1;33m\u001b[0m\u001b[1;33m\u001b[0m\u001b[0m\n\u001b[0m\u001b[0;32m     19\u001b[0m         \u001b[1;32mexcept\u001b[0m \u001b[0mHttpClientError\u001b[0m \u001b[1;32mas\u001b[0m \u001b[0me\u001b[0m\u001b[1;33m:\u001b[0m\u001b[1;33m\u001b[0m\u001b[1;33m\u001b[0m\u001b[0m\n\u001b[0;32m     20\u001b[0m             \u001b[1;32mif\u001b[0m \u001b[0me\u001b[0m\u001b[1;33m.\u001b[0m\u001b[0mstatus_code\u001b[0m \u001b[1;33m==\u001b[0m \u001b[1;36m401\u001b[0m\u001b[1;33m:\u001b[0m\u001b[1;33m\u001b[0m\u001b[1;33m\u001b[0m\u001b[0m\n",
      "\u001b[1;32m~\\Anaconda3\\envs\\orkg\\lib\\site-packages\\paperswithcode\\client.py\u001b[0m in \u001b[0;36mevaluation_create\u001b[1;34m(self, evaluation)\u001b[0m\n\u001b[0;32m    515\u001b[0m         \"\"\"\n\u001b[0;32m    516\u001b[0m         return EvaluationTable(\n\u001b[1;32m--> 517\u001b[1;33m             \u001b[1;33m**\u001b[0m\u001b[0mself\u001b[0m\u001b[1;33m.\u001b[0m\u001b[0mhttp\u001b[0m\u001b[1;33m.\u001b[0m\u001b[0mpost\u001b[0m\u001b[1;33m(\u001b[0m\u001b[1;34m\"/evaluations/\"\u001b[0m\u001b[1;33m,\u001b[0m \u001b[0mdata\u001b[0m\u001b[1;33m=\u001b[0m\u001b[0mevaluation\u001b[0m\u001b[1;33m)\u001b[0m\u001b[1;33m\u001b[0m\u001b[1;33m\u001b[0m\u001b[0m\n\u001b[0m\u001b[0;32m    518\u001b[0m         )\n\u001b[0;32m    519\u001b[0m \u001b[1;33m\u001b[0m\u001b[0m\n",
      "\u001b[1;32m~\\Anaconda3\\envs\\orkg\\lib\\site-packages\\tea_client\\http.py\u001b[0m in \u001b[0;36mpost\u001b[1;34m(self, url, headers, params, data, timeout)\u001b[0m\n\u001b[0;32m    282\u001b[0m             \u001b[0mparams\u001b[0m\u001b[1;33m=\u001b[0m\u001b[0mparams\u001b[0m\u001b[1;33m,\u001b[0m\u001b[1;33m\u001b[0m\u001b[1;33m\u001b[0m\u001b[0m\n\u001b[0;32m    283\u001b[0m             \u001b[0mdata\u001b[0m\u001b[1;33m=\u001b[0m\u001b[0mdata\u001b[0m\u001b[1;33m,\u001b[0m\u001b[1;33m\u001b[0m\u001b[1;33m\u001b[0m\u001b[0m\n\u001b[1;32m--> 284\u001b[1;33m             \u001b[0mtimeout\u001b[0m\u001b[1;33m=\u001b[0m\u001b[0mtimeout\u001b[0m\u001b[1;33m,\u001b[0m\u001b[1;33m\u001b[0m\u001b[1;33m\u001b[0m\u001b[0m\n\u001b[0m\u001b[0;32m    285\u001b[0m         )\n\u001b[0;32m    286\u001b[0m \u001b[1;33m\u001b[0m\u001b[0m\n",
      "\u001b[1;32m~\\Anaconda3\\envs\\orkg\\lib\\site-packages\\tea_client\\http.py\u001b[0m in \u001b[0;36mrequest\u001b[1;34m(self, method, url, headers, params, data, timeout)\u001b[0m\n\u001b[0;32m    177\u001b[0m         \u001b[0mmessage\u001b[0m \u001b[1;33m=\u001b[0m \u001b[0mself\u001b[0m\u001b[1;33m.\u001b[0m\u001b[0mERRORS\u001b[0m\u001b[1;33m.\u001b[0m\u001b[0mget\u001b[0m\u001b[1;33m(\u001b[0m\u001b[0mself\u001b[0m\u001b[1;33m.\u001b[0m\u001b[0mresponse\u001b[0m\u001b[1;33m.\u001b[0m\u001b[0mstatus_code\u001b[0m\u001b[1;33m,\u001b[0m \u001b[1;32mNone\u001b[0m\u001b[1;33m)\u001b[0m\u001b[1;33m\u001b[0m\u001b[1;33m\u001b[0m\u001b[0m\n\u001b[0;32m    178\u001b[0m         \u001b[1;32mif\u001b[0m \u001b[0mmessage\u001b[0m \u001b[1;32mis\u001b[0m \u001b[1;32mnot\u001b[0m \u001b[1;32mNone\u001b[0m\u001b[1;33m:\u001b[0m\u001b[1;33m\u001b[0m\u001b[1;33m\u001b[0m\u001b[0m\n\u001b[1;32m--> 179\u001b[1;33m             \u001b[1;32mraise\u001b[0m \u001b[0merrors\u001b[0m\u001b[1;33m.\u001b[0m\u001b[0mHttpClientError\u001b[0m\u001b[1;33m(\u001b[0m\u001b[0mmessage\u001b[0m\u001b[1;33m,\u001b[0m \u001b[0mresponse\u001b[0m\u001b[1;33m=\u001b[0m\u001b[0mself\u001b[0m\u001b[1;33m.\u001b[0m\u001b[0mresponse\u001b[0m\u001b[1;33m)\u001b[0m\u001b[1;33m\u001b[0m\u001b[1;33m\u001b[0m\u001b[0m\n\u001b[0m\u001b[0;32m    180\u001b[0m \u001b[1;33m\u001b[0m\u001b[0m\n\u001b[0;32m    181\u001b[0m         \u001b[1;32mif\u001b[0m \u001b[0mself\u001b[0m\u001b[1;33m.\u001b[0m\u001b[0mresponse\u001b[0m\u001b[1;33m.\u001b[0m\u001b[0mstatus_code\u001b[0m \u001b[1;33m==\u001b[0m \u001b[1;36m400\u001b[0m\u001b[1;33m:\u001b[0m\u001b[1;33m\u001b[0m\u001b[1;33m\u001b[0m\u001b[0m\n",
      "\u001b[1;31mHttpClientError\u001b[0m: HttpClientError(404: Not found.)"
     ]
    }
   ],
   "source": [
    ">>> from paperswithcode import PapersWithCodeClient, models\n",
    ">>> client = PapersWithCodeClient(token='YOUR TOKEN')\n",
    "\n",
    "# Task\n",
    ">>> task = client.task_list().results[0]\n",
    ">>> task.id\n",
    "'triple-classification'\n",
    "\n",
    "# Datasets\n",
    ">>> datasets = client.dataset_list()\n",
    ">>> dataset_1 = datasets.results[0]\n",
    ">>> dataset_2 = datasets.results[1]\n",
    ">>> dataset_1.id, dataset_2.id\n",
    "('rewrite', 'leitner-et-al-2020')\n",
    "\n",
    "\n",
    "# Paper\n",
    ">>> paper = client.paper_list().results[0]\n",
    ">>> paper.id\n",
    "'on-the-minimal-teaching-sets-of-two'\n",
    "\n",
    "\n",
    "# We can now create and manipulate evaluation tables:\n",
    "\n",
    "\n",
    ">>> et = client.evaluation_create(\n",
    "...     models.EvaluationTableCreateRequest(\n",
    "...         task=task.id,\n",
    "...         dataset=dataset_1.id\n",
    "...     )\n",
    "... )\n",
    ">>> et.id\n",
    "'triple-classification-on-rewrite-8'\n",
    "\n",
    "\n",
    "# Get by id:\n",
    ">>> client.evaluation_get(et.id)\n",
    "EvaluationTable(\n",
    "    id='triple-classification-on-rewrite-8', \n",
    "    task='triple-classification',\n",
    "    dataset='rewrite'\n",
    ")\n",
    "\n",
    "# Update\n",
    ">>> et = client.evaluation_update(et.id, models.EvaluationTableUpdateRequest(\n",
    "...     dataset=dataset_2.id\n",
    "... ))\n",
    ">>> et\n",
    "EvaluationTable(\n",
    "    id='triple-classification-on-rewrite-8',\n",
    "    task='triple-classification',\n",
    "    dataset='leitner-et-al-2020'\n",
    ")\n",
    "\n",
    "\n",
    "# Get Metrics\n",
    ">>> client.evaluation_metric_list(et.id)\n",
    "[]\n",
    "\n",
    "# Add a metric\n",
    ">>> m = client.evaluation_metric_add(\n",
    "...     et.id,\n",
    "...     models.MetricCreateRequest(\n",
    "...         name=\"some metric\",\n",
    "...         description=\"Metric description\",\n",
    "...         is_loss=True\n",
    "...     )\n",
    "... )\n",
    ">>> m\n",
    "Metric(\n",
    "    id='748dccd5-0a28-432c-98ec-7ab74a127ede',\n",
    "    name='some metric',\n",
    "    description='Metric description',\n",
    "    is_loss=True\n",
    ")\n",
    "\n",
    "# Update a metric\n",
    ">>> m = client.evaluation_metric_update(\n",
    "...     et.id,\n",
    "...     m.id,\n",
    "...     models.MetricUpdateRequest(is_loss=False)\n",
    "... )\n",
    ">>> m\n",
    "Metric(\n",
    "    id='748dccd5-0a28-432c-98ec-7ab74a127ede',\n",
    "    name='some metric',\n",
    "    description='Metric description',\n",
    "    is_loss=False\n",
    ")\n",
    "\n",
    "\n",
    "# Get results\n",
    ">>> client.evaluation_result_list(et.id)\n",
    "[]\n",
    "\n",
    "# Add a result\n",
    ">>> r = client.evaluation_result_add(\n",
    "...     et.id,\n",
    "...     models.ResultCreateRequest(\n",
    "...         metrics={\"some metric\": '44'},\n",
    "...         methodology=\"Some methodologoy\",\n",
    "...         uses_additional_data=False,\n",
    "...         paper=paper.id                   # Optional\n",
    "...     )\n",
    "... )\n",
    ">>> r\n",
    "Result(\n",
    "    id='81cdfce5-d976-4d29-93a7-23a29118b037',\n",
    "    best_rank=None,\n",
    "    metrics={'some metric': '44'},\n",
    "    methodology='Some methodologoy',\n",
    "    uses_additional_data=False,\n",
    "    paper='on-the-minimal-teaching-sets-of-two',\n",
    "    best_metric=None\n",
    ")\n",
    "    \n",
    "# Update result\n",
    ">>> r = client.evaluation_result_update(\n",
    "...     et.id,\n",
    "...     r.id,   \n",
    "...     models.ResultUpdateRequest(\n",
    "...         methodology=\"Some other methodologoy\",\n",
    "...         uses_additional_data=True,\n",
    "...     )\n",
    "... )\n",
    ">>> r\n",
    "Result(\n",
    "    id='81cdfce5-d976-4d29-93a7-23a29118b037',\n",
    "    best_rank=None,\n",
    "    metrics={'some metric': '44'},\n",
    "    methodology='Some other methodologoy',\n",
    "    uses_additional_data=True,\n",
    "    paper='on-the-minimal-teaching-sets-of-two',\n",
    "    best_metric=None\n",
    ")\n",
    "\n",
    "# List the results again\n",
    ">>> client.evaluation_result_list(et.id)\n",
    "[\n",
    "    Result(\n",
    "        id='81cdfce5-d976-4d29-93a7-23a29118b037',\n",
    "        best_rank=None,\n",
    "        metrics={'some metric': '44'},\n",
    "        methodology='Some other methodologoy',\n",
    "        uses_additional_data=True,\n",
    "        paper='on-the-minimal-teaching-sets-of-two',\n",
    "        best_metric=None\n",
    "    )\n",
    "]\n",
    "\n",
    "# Delete a result\n",
    ">>> client.evaluation_result_delete(et.id, r.id)\n",
    ">>> client.evaluation_result_list(et.id)\n",
    "[]"
   ]
  },
  {
   "cell_type": "code",
   "execution_count": null,
   "metadata": {},
   "outputs": [],
   "source": []
  },
  {
   "cell_type": "code",
   "execution_count": null,
   "metadata": {},
   "outputs": [],
   "source": []
  },
  {
   "cell_type": "code",
   "execution_count": null,
   "metadata": {},
   "outputs": [],
   "source": []
  },
  {
   "cell_type": "code",
   "execution_count": null,
   "metadata": {},
   "outputs": [],
   "source": []
  },
  {
   "cell_type": "code",
   "execution_count": null,
   "metadata": {},
   "outputs": [],
   "source": []
  },
  {
   "cell_type": "code",
   "execution_count": null,
   "metadata": {},
   "outputs": [],
   "source": []
  },
  {
   "cell_type": "code",
   "execution_count": 143,
   "metadata": {},
   "outputs": [],
   "source": [
    "import json\n",
    "import requests\n",
    "import ipdb"
   ]
  },
  {
   "cell_type": "code",
   "execution_count": 142,
   "metadata": {},
   "outputs": [],
   "source": [
    "def readFile(path):\n",
    "    \"\"\"\n",
    "    Reads the json file and returns a dictionary containing the json object\n",
    "    \n",
    "    Parameters\n",
    "    ----------\n",
    "    path : str\n",
    "        The local path of the json file\n",
    "    \"\"\"\n",
    "    \n",
    "    file = open(path)\n",
    "    json_string = json.load(file)\n",
    "    file.close()\n",
    "    return json_string"
   ]
  },
  {
   "cell_type": "code",
   "execution_count": 147,
   "metadata": {},
   "outputs": [],
   "source": [
    "papersWithAbstracts = readFile('papers-with-abstracts.json')\n",
    "papersWithCode = readFile('links-between-papers-and-code.json')\n",
    "evalTables = readFile('evaluation-tables.json')"
   ]
  },
  {
   "cell_type": "code",
   "execution_count": 148,
   "metadata": {},
   "outputs": [
    {
     "data": {
      "text/plain": [
       "171814"
      ]
     },
     "execution_count": 148,
     "metadata": {},
     "output_type": "execute_result"
    }
   ],
   "source": [
    "len(papersWithAbstracts)"
   ]
  },
  {
   "cell_type": "code",
   "execution_count": 149,
   "metadata": {},
   "outputs": [
    {
     "data": {
      "text/plain": [
       "68436"
      ]
     },
     "execution_count": 149,
     "metadata": {},
     "output_type": "execute_result"
    }
   ],
   "source": [
    "len(papersWithCode)"
   ]
  },
  {
   "cell_type": "code",
   "execution_count": 150,
   "metadata": {},
   "outputs": [
    {
     "data": {
      "text/plain": [
       "860"
      ]
     },
     "execution_count": 150,
     "metadata": {},
     "output_type": "execute_result"
    }
   ],
   "source": [
    "len(evalTables)"
   ]
  },
  {
   "cell_type": "code",
   "execution_count": 153,
   "metadata": {},
   "outputs": [],
   "source": [
    ">>> import requests\n",
    ">>> r = requests.get('https://api.github.com/events').json()"
   ]
  },
  {
   "cell_type": "code",
   "execution_count": 158,
   "metadata": {},
   "outputs": [
    {
     "data": {
      "text/plain": [
       "[{'id': '14215858963',\n",
       "  'type': 'PushEvent',\n",
       "  'actor': {'id': 68584155,\n",
       "   'login': 'myreaderx13',\n",
       "   'display_login': 'myreaderx13',\n",
       "   'gravatar_id': '',\n",
       "   'url': 'https://api.github.com/users/myreaderx13',\n",
       "   'avatar_url': 'https://avatars.githubusercontent.com/u/68584155?'},\n",
       "  'repo': {'id': 281324816,\n",
       "   'name': 'myreaderx13/cdn84',\n",
       "   'url': 'https://api.github.com/repos/myreaderx13/cdn84'},\n",
       "  'payload': {'push_id': 6043006264,\n",
       "   'size': 1,\n",
       "   'distinct_size': 1,\n",
       "   'ref': 'refs/heads/2020_4',\n",
       "   'head': '4f176e65822f6ea56927328e91795771ffb0f8f5',\n",
       "   'before': '1cfe0051c6c79dc0476d956eb1ae14675796a897',\n",
       "   'commits': [{'sha': '4f176e65822f6ea56927328e91795771ffb0f8f5',\n",
       "     'author': {'email': '68584155+myreaderx13@users.noreply.github.com',\n",
       "      'name': 'myreaderx13'},\n",
       "     'message': '2020-11-17 08:07:24 upload files',\n",
       "     'distinct': True,\n",
       "     'url': 'https://api.github.com/repos/myreaderx13/cdn84/commits/4f176e65822f6ea56927328e91795771ffb0f8f5'}]},\n",
       "  'public': True,\n",
       "  'created_at': '2020-11-17T08:07:25Z'}]"
      ]
     },
     "execution_count": 158,
     "metadata": {},
     "output_type": "execute_result"
    }
   ],
   "source": [
    "r[:1]"
   ]
  },
  {
   "cell_type": "code",
   "execution_count": 157,
   "metadata": {},
   "outputs": [
    {
     "ename": "AttributeError",
     "evalue": "'dict' object has no attribute 'json'",
     "output_type": "error",
     "traceback": [
      "\u001b[1;31m---------------------------------------------------------------------------\u001b[0m",
      "\u001b[1;31mAttributeError\u001b[0m                            Traceback (most recent call last)",
      "\u001b[1;32m<ipython-input-157-7641a605894e>\u001b[0m in \u001b[0;36m<module>\u001b[1;34m\u001b[0m\n\u001b[1;32m----> 1\u001b[1;33m \u001b[0mdata\u001b[0m\u001b[1;33m.\u001b[0m\u001b[0mjson\u001b[0m\u001b[1;33m(\u001b[0m\u001b[1;33m)\u001b[0m\u001b[1;33m\u001b[0m\u001b[1;33m\u001b[0m\u001b[0m\n\u001b[0m",
      "\u001b[1;31mAttributeError\u001b[0m: 'dict' object has no attribute 'json'"
     ]
    }
   ],
   "source": [
    "data.json()"
   ]
  },
  {
   "cell_type": "code",
   "execution_count": 159,
   "metadata": {},
   "outputs": [],
   "source": [
    "a = {1:'2'}"
   ]
  },
  {
   "cell_type": "code",
   "execution_count": 160,
   "metadata": {},
   "outputs": [],
   "source": [
    "a.update({1:'3', 3:'[2]'})"
   ]
  },
  {
   "cell_type": "code",
   "execution_count": 161,
   "metadata": {},
   "outputs": [
    {
     "data": {
      "text/plain": [
       "{1: '3', 3: '[2]'}"
      ]
     },
     "execution_count": 161,
     "metadata": {},
     "output_type": "execute_result"
    }
   ],
   "source": [
    "a"
   ]
  },
  {
   "cell_type": "code",
   "execution_count": 162,
   "metadata": {},
   "outputs": [],
   "source": [
    "a.update({6:'33', 3:'[66, 3]'})"
   ]
  },
  {
   "cell_type": "code",
   "execution_count": 163,
   "metadata": {},
   "outputs": [
    {
     "data": {
      "text/plain": [
       "{1: '3', 3: '[66, 3]', 6: '33'}"
      ]
     },
     "execution_count": 163,
     "metadata": {},
     "output_type": "execute_result"
    }
   ],
   "source": [
    "a"
   ]
  },
  {
   "cell_type": "code",
   "execution_count": 165,
   "metadata": {},
   "outputs": [
    {
     "data": {
      "text/plain": [
       "[]"
      ]
     },
     "execution_count": 165,
     "metadata": {},
     "output_type": "execute_result"
    }
   ],
   "source": [
    "[]+[]"
   ]
  },
  {
   "cell_type": "code",
   "execution_count": 176,
   "metadata": {},
   "outputs": [
    {
     "ename": "SyntaxError",
     "evalue": "invalid syntax (<ipython-input-176-9f9c43d45388>, line 3)",
     "output_type": "error",
     "traceback": [
      "\u001b[1;36m  File \u001b[1;32m\"<ipython-input-176-9f9c43d45388>\"\u001b[1;36m, line \u001b[1;32m3\u001b[0m\n\u001b[1;33m    b = defaultdict(lambda:int lambda: [])\u001b[0m\n\u001b[1;37m                                    ^\u001b[0m\n\u001b[1;31mSyntaxError\u001b[0m\u001b[1;31m:\u001b[0m invalid syntax\n"
     ]
    }
   ],
   "source": [
    "from collections import defaultdict\n",
    " \n",
    "b = defaultdict(lambda:int lambda: [])"
   ]
  },
  {
   "cell_type": "code",
   "execution_count": 173,
   "metadata": {},
   "outputs": [
    {
     "data": {
      "text/plain": [
       "<function __main__.<lambda>.<locals>.<lambda>()>"
      ]
     },
     "execution_count": 173,
     "metadata": {},
     "output_type": "execute_result"
    }
   ],
   "source": [
    "b['a']"
   ]
  },
  {
   "cell_type": "code",
   "execution_count": 174,
   "metadata": {},
   "outputs": [
    {
     "data": {
      "text/plain": [
       "defaultdict(<function __main__.<lambda>()>,\n",
       "            {'a': <function __main__.<lambda>.<locals>.<lambda>()>})"
      ]
     },
     "execution_count": 174,
     "metadata": {},
     "output_type": "execute_result"
    }
   ],
   "source": [
    "b"
   ]
  },
  {
   "cell_type": "code",
   "execution_count": null,
   "metadata": {},
   "outputs": [],
   "source": []
  }
 ],
 "metadata": {
  "kernelspec": {
   "display_name": "orkg",
   "language": "python",
   "name": "orkg"
  },
  "language_info": {
   "codemirror_mode": {
    "name": "ipython",
    "version": 3
   },
   "file_extension": ".py",
   "mimetype": "text/x-python",
   "name": "python",
   "nbconvert_exporter": "python",
   "pygments_lexer": "ipython3",
   "version": "3.6.12-final"
  }
 },
 "nbformat": 4,
 "nbformat_minor": 4
}