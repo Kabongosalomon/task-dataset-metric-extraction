{
 "cells": [
  {
   "cell_type": "code",
   "execution_count": 24,
   "metadata": {},
   "outputs": [],
   "source": [
    "import pandas as pd\n",
    "import ipdb"
   ]
  },
  {
   "cell_type": "code",
   "execution_count": 32,
   "metadata": {},
   "outputs": [],
   "source": [
    "def change(path):\n",
    "    f_in=open(path, \"r\")       #opens a file in the reading mode\n",
    "    in_lines=f_in.readlines()           #reads it line by line\n",
    "    out=[]\n",
    "    for line in in_lines:\n",
    "        line_content = line.split('\\t')        #separate elements by the spaces, returning a list with the numbers as strings\n",
    "        line_content[1]+=\"#\"+line_content[2].split(';')[-1].strip()\n",
    "\n",
    "        out.append(line_content)         #stores the numbers in a list, where each list corresponds to a lines' content\n",
    "    f_in.close()                        #closes the file\n",
    "\n",
    "    f_out=open(f\"{path}_\", \"w\")     #opens a new file in the writing mode\n",
    "    for cur_list in out:\n",
    "        for i, item in enumerate(cur_list):\n",
    "            if i ==  3:\n",
    "                f_out.write(str(item))    #writes each number, plus a tab\n",
    "            else:\n",
    "                f_out.write(str(item)+\"\\t\")    #writes each number, plus a tab\n",
    "    #     f_out.write()               #writes a newline\n",
    "    f_out.close() "
   ]
  },
  {
   "cell_type": "code",
   "execution_count": 34,
   "metadata": {},
   "outputs": [],
   "source": [
    "path = \"../fold2/dev.tsv\"\n",
    "change(path)"
   ]
  },
  {
   "cell_type": "code",
   "execution_count": null,
   "metadata": {},
   "outputs": [],
   "source": []
  }
 ],
 "metadata": {
  "kernelspec": {
   "display_name": "Python 3.6.12 64-bit ('orkg': conda)",
   "language": "python",
   "name": "python361264bitorkgcondaff7da313e8e849edbbe0b69978826ffe"
  },
  "language_info": {
   "codemirror_mode": {
    "name": "ipython",
    "version": 3
   },
   "file_extension": ".py",
   "mimetype": "text/x-python",
   "name": "python",
   "nbconvert_exporter": "python",
   "pygments_lexer": "ipython3",
   "version": "3.6.12"
  }
 },
 "nbformat": 4,
 "nbformat_minor": 4
}
